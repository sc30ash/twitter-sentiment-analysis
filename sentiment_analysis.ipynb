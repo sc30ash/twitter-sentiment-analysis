{
  "nbformat": 4,
  "nbformat_minor": 0,
  "metadata": {
    "colab": {
      "name": "sentiment analysis.ipynb",
      "provenance": [],
      "collapsed_sections": []
    },
    "kernelspec": {
      "name": "python3",
      "display_name": "Python 3"
    },
    "language_info": {
      "name": "python"
    },
    "accelerator": "TPU"
  },
  "cells": [
    {
      "cell_type": "code",
      "metadata": {
        "colab": {
          "base_uri": "https://localhost:8080/"
        },
        "id": "EwIVrYZjzdbI",
        "outputId": "508c358e-77b6-4b31-8d71-902b32838b94"
      },
      "source": [
        "import pandas as pd # provide sql-like data manipulation tools. very handy.\n",
        "pd.options.mode.chained_assignment = None\n",
        "import numpy as np # high dimensional vector computing library.\n",
        "from copy import deepcopy\n",
        "from string import punctuation\n",
        "from random import shuffle\n",
        "import pickle\n",
        "import h5py\n",
        "import json\n",
        "import matplotlib.pyplot as plt \n",
        "import tweepy\n",
        "import gensim\n",
        "from gensim.models.word2vec import Word2Vec # the word2vec model gensim class\n",
        "import sys,tweepy,csv,re\n",
        "from textblob import TextBlob\n",
        "import matplotlib.pyplot as plt\n",
        "from tqdm import tqdm\n",
        "tqdm.pandas(desc=\"progress-bar\")\n",
        "\n",
        "from nltk.tokenize import TweetTokenizer # a tweet tokenizer from nltk.\n",
        "from nltk import word_tokenize\n",
        "\n",
        "from sklearn.preprocessing import scale\n",
        "from sklearn.model_selection import train_test_split\n",
        "from sklearn.feature_extraction.text import TfidfVectorizer\n",
        "\n",
        "from keras.preprocessing.image import ImageDataGenerator\n",
        "from keras.models import Sequential\n",
        "from keras.layers import Dense\n",
        "from keras.layers import Dropout\n",
        "from keras.layers import Flatten\n",
        "from keras.constraints import maxnorm\n",
        "from keras.optimizers import SGD\n",
        "from keras.layers.convolutional import Conv2D\n",
        "from keras.layers.convolutional import MaxPooling2D\n",
        "from keras.utils import np_utils\n",
        "from keras.callbacks import Callback\n",
        "from keras.models import model_from_json"
      ],
      "execution_count": 1,
      "outputs": [
        {
          "output_type": "stream",
          "text": [
            "/usr/local/lib/python3.7/dist-packages/tqdm/std.py:658: FutureWarning: The Panel class is removed from pandas. Accessing it from the top-level namespace will also be removed in the next version\n",
            "  from pandas import Panel\n"
          ],
          "name": "stderr"
        }
      ]
    },
    {
      "cell_type": "code",
      "metadata": {
        "colab": {
          "base_uri": "https://localhost:8080/"
        },
        "id": "6U4BqOFDzdX2",
        "outputId": "dee62355-58f0-48bf-c36f-0a9eeff6d5ce"
      },
      "source": [
        "def ingest():\n",
        "    data = pd.read_csv('/content/drive/MyDrive/tweets.csv', encoding='latin-1') # Enter your file location\n",
        "    data.columns=[\"Sentiment\",\"ItemID\",\"Date\",\"Blank\",\"SentimentSource\",\"SentimentText\"]\n",
        "    data.drop(['ItemID', 'SentimentSource'], axis=1, inplace=True)\n",
        "    data = data[data.Sentiment.isnull() == False]\n",
        "    data['Sentiment'] = data['Sentiment'].map( {4:1, 0:0}) #Converting 4 to 1\n",
        "    data = data[data['SentimentText'].isnull() == False]\n",
        "    data.reset_index(inplace=True)\n",
        "    data.drop('index', axis=1, inplace=True)\n",
        "    print ('dataset loaded with shape', data.shape  )  \n",
        "    return data\n",
        "\n",
        "data = ingest()"
      ],
      "execution_count": 2,
      "outputs": [
        {
          "output_type": "stream",
          "text": [
            "dataset loaded with shape (1599999, 4)\n"
          ],
          "name": "stdout"
        }
      ]
    },
    {
      "cell_type": "code",
      "metadata": {
        "colab": {
          "base_uri": "https://localhost:8080/"
        },
        "id": "xcien7ZOArTd",
        "outputId": "80b37fb4-f692-4533-f8f7-eabb8e1bee38"
      },
      "source": [
        "tokenizer = TweetTokenizer()\n",
        "def tokenize(tweet):\n",
        "    try:\n",
        "        tweet = tweet.lower()\n",
        "        tokens = tokenizer.tokenize(tweet)\n",
        "        tokens = list(filter(lambda t: not t.startswith('@'), tokens))\n",
        "        tokens = list(filter(lambda t: not t.startswith('#'), tokens))\n",
        "        tokens = list(filter(lambda t: not t.startswith('http'), tokens))\n",
        "        return tokens\n",
        "    except:\n",
        "        return 'NC'\n",
        "def postprocess(data):\n",
        "#     , n=1000000\n",
        "#     data = data.head(n)\n",
        "    data['tokens'] = data['SentimentText'].progress_map(tokenize)  ## progress_map is a variant of the map function plus a progress bar. Handy to monitor DataFrame creations.\n",
        "    data = data[data.tokens != 'NC']\n",
        "    data.reset_index(inplace=True)\n",
        "    data.drop('index', inplace=True, axis=1)\n",
        "    return data\n",
        "\n",
        "data = postprocess(data)"
      ],
      "execution_count": 3,
      "outputs": [
        {
          "output_type": "stream",
          "text": [
            "progress-bar: 100%|██████████| 1599999/1599999 [01:26<00:00, 18537.45it/s]\n"
          ],
          "name": "stderr"
        }
      ]
    },
    {
      "cell_type": "code",
      "metadata": {
        "id": "z8u5vlAKAvEN"
      },
      "source": [
        "LabeledSentence = gensim.models.doc2vec.LabeledSentence # we'll talk about this down below\n",
        "\n",
        "def labelizeTweets(tweets, label_type):\n",
        "    labelized = []\n",
        "    for i,v in tqdm(enumerate(tweets)):\n",
        "        label = '%s_%s'%(label_type,i)\n",
        "        labelized.append(LabeledSentence(v, [label]))\n",
        "    return labelized"
      ],
      "execution_count": 4,
      "outputs": []
    },
    {
      "cell_type": "code",
      "metadata": {
        "colab": {
          "base_uri": "https://localhost:8080/"
        },
        "id": "gB8V7tlPBbxd",
        "outputId": "92807e30-5d2f-4770-a888-e69cce3b9849"
      },
      "source": [
        "x_train, x_test, y_train, y_test = train_test_split(np.array(data.head(1000000).tokens),\n",
        "                                                    np.array(data.head(1000000).Sentiment), test_size=0.2)\n",
        "x_train = labelizeTweets(x_train, 'TRAIN')\n",
        "x_test = labelizeTweets(x_test, 'TEST')\n",
        "data_labellised= labelizeTweets(np.array(data.tokens), 'data')"
      ],
      "execution_count": 5,
      "outputs": [
        {
          "output_type": "stream",
          "text": [
            "0it [00:00, ?it/s]/usr/local/lib/python3.7/dist-packages/ipykernel_launcher.py:7: DeprecationWarning: Call to deprecated `LabeledSentence` (Class will be removed in 4.0.0, use TaggedDocument instead).\n",
            "  import sys\n",
            "800000it [00:05, 138716.64it/s]\n",
            "200000it [00:01, 102140.10it/s]\n",
            "1599999it [00:08, 192177.59it/s]\n"
          ],
          "name": "stderr"
        }
      ]
    },
    {
      "cell_type": "code",
      "metadata": {
        "colab": {
          "base_uri": "https://localhost:8080/"
        },
        "id": "nqjMPu9jBovk",
        "outputId": "8afa8f26-2df0-40f0-ece3-f274cf0e91dc"
      },
      "source": [
        "n=1000000\n",
        "n_dim = 200\n",
        "tweet_w2v = Word2Vec(size=n_dim, min_count=10)\n",
        "tweet_w2v.build_vocab([x.words for x in tqdm(data_labellised)])\n",
        "tweet_w2v.train([x.words for x in tqdm(data_labellised)],total_examples=tweet_w2v.corpus_count, epochs=tweet_w2v.iter)"
      ],
      "execution_count": 6,
      "outputs": [
        {
          "output_type": "stream",
          "text": [
            "100%|██████████| 1599999/1599999 [00:00<00:00, 2682970.62it/s]\n",
            "100%|██████████| 1599999/1599999 [00:00<00:00, 2641132.34it/s]\n",
            "/usr/local/lib/python3.7/dist-packages/ipykernel_launcher.py:5: DeprecationWarning: Call to deprecated `iter` (Attribute will be removed in 4.0.0, use self.epochs instead).\n",
            "  \"\"\"\n"
          ],
          "name": "stderr"
        },
        {
          "output_type": "execute_result",
          "data": {
            "text/plain": [
              "(85541242, 117647895)"
            ]
          },
          "metadata": {
            "tags": []
          },
          "execution_count": 6
        }
      ]
    },
    {
      "cell_type": "code",
      "metadata": {
        "id": "gVSgG5CjzdTm"
      },
      "source": [
        "def buildWordVector(tokens, size):\n",
        "    vec = np.zeros(size).reshape((1, size))\n",
        "    count = 0.\n",
        "    for word in tokens:\n",
        "        try:\n",
        "            vec += tweet_w2v[word].reshape((1, size)) * tfidf[word] #combining w2v vectors with tfidf value of words in the tweet.\n",
        "            count += 1.\n",
        "        except KeyError: # handling the case where the token is not\n",
        "                         # in the corpus. useful for testing.\n",
        "            continue\n",
        "    if count != 0:\n",
        "        vec /= count\n",
        "    return vec"
      ],
      "execution_count": 7,
      "outputs": []
    },
    {
      "cell_type": "code",
      "metadata": {
        "id": "Z1-pKTHWzdJ4"
      },
      "source": [
        "#Loading the model\n",
        "newmodel = model_from_json(open('/content/drive/MyDrive/model.json').read())\n",
        "newmodel.load_weights('/content/drive/MyDrive/smodel.h5')"
      ],
      "execution_count": 8,
      "outputs": []
    },
    {
      "cell_type": "code",
      "metadata": {
        "colab": {
          "base_uri": "https://localhost:8080/"
        },
        "id": "idgDGbgOD2Ec",
        "outputId": "de4fc4e2-708a-4b55-d1d5-324d53a0db26"
      },
      "source": [
        "print ('building tf-idf matrix ...')\n",
        "vectorizer = TfidfVectorizer(analyzer=lambda x: x, min_df=10)\n",
        "matrix = vectorizer.fit_transform([x.words for x in data_labellised])\n",
        "tfidf = dict(zip(vectorizer.get_feature_names(), vectorizer.idf_))\n",
        "print ('vocab size :', len(tfidf))"
      ],
      "execution_count": 9,
      "outputs": [
        {
          "output_type": "stream",
          "text": [
            "building tf-idf matrix ...\n",
            "vocab size : 35104\n"
          ],
          "name": "stdout"
        }
      ]
    },
    {
      "cell_type": "code",
      "metadata": {
        "colab": {
          "base_uri": "https://localhost:8080/"
        },
        "id": "aVnlaUUeGUFI",
        "outputId": "436d32e5-4c79-474e-9528-fced599d6560"
      },
      "source": [
        "train_vecs_w2v = np.concatenate([buildWordVector(z, n_dim) for z in tqdm(map(lambda x: x.words, x_train))])\n",
        "train_vecs_w2v = scale(train_vecs_w2v)\n",
        "\n",
        "test_vecs_w2v = np.concatenate([buildWordVector(z, n_dim) for z in tqdm(map(lambda x: x.words, x_test))])\n",
        "test_vecs_w2v = scale(test_vecs_w2v)\n",
        "newmodel.compile(optimizer='rmsprop',\n",
        "              loss='binary_crossentropy',\n",
        "              metrics=['accuracy'])\n",
        "newmodel.fit(train_vecs_w2v, y_train, epochs=100, batch_size=10000, verbose=2)"
      ],
      "execution_count": 10,
      "outputs": [
        {
          "output_type": "stream",
          "text": [
            "0it [00:00, ?it/s]/usr/local/lib/python3.7/dist-packages/ipykernel_launcher.py:6: DeprecationWarning: Call to deprecated `__getitem__` (Method will be removed in 4.0.0, use self.wv.__getitem__() instead).\n",
            "  \n",
            "800000it [02:20, 5711.91it/s]\n",
            "0it [00:00, ?it/s]/usr/local/lib/python3.7/dist-packages/ipykernel_launcher.py:6: DeprecationWarning: Call to deprecated `__getitem__` (Method will be removed in 4.0.0, use self.wv.__getitem__() instead).\n",
            "  \n",
            "200000it [00:34, 5776.36it/s]\n"
          ],
          "name": "stderr"
        },
        {
          "output_type": "stream",
          "text": [
            "Epoch 1/100\n",
            "80/80 - 2s - loss: 0.4325 - accuracy: 0.8158\n",
            "Epoch 2/100\n",
            "80/80 - 1s - loss: 0.3676 - accuracy: 0.8448\n",
            "Epoch 3/100\n",
            "80/80 - 1s - loss: 0.3542 - accuracy: 0.8516\n",
            "Epoch 4/100\n",
            "80/80 - 1s - loss: 0.3477 - accuracy: 0.8549\n",
            "Epoch 5/100\n",
            "80/80 - 1s - loss: 0.3434 - accuracy: 0.8568\n",
            "Epoch 6/100\n",
            "80/80 - 1s - loss: 0.3404 - accuracy: 0.8582\n",
            "Epoch 7/100\n",
            "80/80 - 1s - loss: 0.3380 - accuracy: 0.8593\n",
            "Epoch 8/100\n",
            "80/80 - 1s - loss: 0.3360 - accuracy: 0.8601\n",
            "Epoch 9/100\n",
            "80/80 - 1s - loss: 0.3343 - accuracy: 0.8608\n",
            "Epoch 10/100\n",
            "80/80 - 1s - loss: 0.3330 - accuracy: 0.8614\n",
            "Epoch 11/100\n",
            "80/80 - 1s - loss: 0.3317 - accuracy: 0.8620\n",
            "Epoch 12/100\n",
            "80/80 - 1s - loss: 0.3307 - accuracy: 0.8624\n",
            "Epoch 13/100\n",
            "80/80 - 1s - loss: 0.3297 - accuracy: 0.8628\n",
            "Epoch 14/100\n",
            "80/80 - 1s - loss: 0.3289 - accuracy: 0.8632\n",
            "Epoch 15/100\n",
            "80/80 - 1s - loss: 0.3281 - accuracy: 0.8634\n",
            "Epoch 16/100\n",
            "80/80 - 1s - loss: 0.3274 - accuracy: 0.8637\n",
            "Epoch 17/100\n",
            "80/80 - 1s - loss: 0.3267 - accuracy: 0.8641\n",
            "Epoch 18/100\n",
            "80/80 - 1s - loss: 0.3262 - accuracy: 0.8643\n",
            "Epoch 19/100\n",
            "80/80 - 1s - loss: 0.3256 - accuracy: 0.8645\n",
            "Epoch 20/100\n",
            "80/80 - 1s - loss: 0.3251 - accuracy: 0.8650\n",
            "Epoch 21/100\n",
            "80/80 - 1s - loss: 0.3246 - accuracy: 0.8650\n",
            "Epoch 22/100\n",
            "80/80 - 1s - loss: 0.3242 - accuracy: 0.8651\n",
            "Epoch 23/100\n",
            "80/80 - 1s - loss: 0.3238 - accuracy: 0.8654\n",
            "Epoch 24/100\n",
            "80/80 - 1s - loss: 0.3234 - accuracy: 0.8657\n",
            "Epoch 25/100\n",
            "80/80 - 1s - loss: 0.3230 - accuracy: 0.8658\n",
            "Epoch 26/100\n",
            "80/80 - 1s - loss: 0.3227 - accuracy: 0.8660\n",
            "Epoch 27/100\n",
            "80/80 - 1s - loss: 0.3224 - accuracy: 0.8661\n",
            "Epoch 28/100\n",
            "80/80 - 1s - loss: 0.3220 - accuracy: 0.8662\n",
            "Epoch 29/100\n",
            "80/80 - 1s - loss: 0.3217 - accuracy: 0.8665\n",
            "Epoch 30/100\n",
            "80/80 - 1s - loss: 0.3215 - accuracy: 0.8666\n",
            "Epoch 31/100\n",
            "80/80 - 1s - loss: 0.3212 - accuracy: 0.8667\n",
            "Epoch 32/100\n",
            "80/80 - 1s - loss: 0.3209 - accuracy: 0.8667\n",
            "Epoch 33/100\n",
            "80/80 - 1s - loss: 0.3207 - accuracy: 0.8670\n",
            "Epoch 34/100\n",
            "80/80 - 1s - loss: 0.3204 - accuracy: 0.8670\n",
            "Epoch 35/100\n",
            "80/80 - 1s - loss: 0.3202 - accuracy: 0.8671\n",
            "Epoch 36/100\n",
            "80/80 - 1s - loss: 0.3200 - accuracy: 0.8673\n",
            "Epoch 37/100\n",
            "80/80 - 2s - loss: 0.3198 - accuracy: 0.8674\n",
            "Epoch 38/100\n",
            "80/80 - 2s - loss: 0.3196 - accuracy: 0.8674\n",
            "Epoch 39/100\n",
            "80/80 - 1s - loss: 0.3194 - accuracy: 0.8675\n",
            "Epoch 40/100\n",
            "80/80 - 1s - loss: 0.3192 - accuracy: 0.8677\n",
            "Epoch 41/100\n",
            "80/80 - 1s - loss: 0.3190 - accuracy: 0.8676\n",
            "Epoch 42/100\n",
            "80/80 - 1s - loss: 0.3188 - accuracy: 0.8677\n",
            "Epoch 43/100\n",
            "80/80 - 1s - loss: 0.3187 - accuracy: 0.8678\n",
            "Epoch 44/100\n",
            "80/80 - 1s - loss: 0.3185 - accuracy: 0.8679\n",
            "Epoch 45/100\n",
            "80/80 - 1s - loss: 0.3184 - accuracy: 0.8679\n",
            "Epoch 46/100\n",
            "80/80 - 1s - loss: 0.3182 - accuracy: 0.8680\n",
            "Epoch 47/100\n",
            "80/80 - 1s - loss: 0.3181 - accuracy: 0.8679\n",
            "Epoch 48/100\n",
            "80/80 - 1s - loss: 0.3179 - accuracy: 0.8682\n",
            "Epoch 49/100\n",
            "80/80 - 1s - loss: 0.3178 - accuracy: 0.8683\n",
            "Epoch 50/100\n",
            "80/80 - 1s - loss: 0.3177 - accuracy: 0.8684\n",
            "Epoch 51/100\n",
            "80/80 - 1s - loss: 0.3175 - accuracy: 0.8682\n",
            "Epoch 52/100\n",
            "80/80 - 1s - loss: 0.3174 - accuracy: 0.8683\n",
            "Epoch 53/100\n",
            "80/80 - 1s - loss: 0.3173 - accuracy: 0.8684\n",
            "Epoch 54/100\n",
            "80/80 - 1s - loss: 0.3172 - accuracy: 0.8683\n",
            "Epoch 55/100\n",
            "80/80 - 1s - loss: 0.3171 - accuracy: 0.8684\n",
            "Epoch 56/100\n",
            "80/80 - 1s - loss: 0.3170 - accuracy: 0.8685\n",
            "Epoch 57/100\n",
            "80/80 - 1s - loss: 0.3169 - accuracy: 0.8684\n",
            "Epoch 58/100\n",
            "80/80 - 1s - loss: 0.3168 - accuracy: 0.8686\n",
            "Epoch 59/100\n",
            "80/80 - 1s - loss: 0.3167 - accuracy: 0.8686\n",
            "Epoch 60/100\n",
            "80/80 - 1s - loss: 0.3166 - accuracy: 0.8686\n",
            "Epoch 61/100\n",
            "80/80 - 1s - loss: 0.3165 - accuracy: 0.8685\n",
            "Epoch 62/100\n",
            "80/80 - 1s - loss: 0.3164 - accuracy: 0.8686\n",
            "Epoch 63/100\n",
            "80/80 - 1s - loss: 0.3163 - accuracy: 0.8686\n",
            "Epoch 64/100\n",
            "80/80 - 1s - loss: 0.3162 - accuracy: 0.8687\n",
            "Epoch 65/100\n",
            "80/80 - 1s - loss: 0.3161 - accuracy: 0.8688\n",
            "Epoch 66/100\n",
            "80/80 - 1s - loss: 0.3160 - accuracy: 0.8687\n",
            "Epoch 67/100\n",
            "80/80 - 1s - loss: 0.3159 - accuracy: 0.8688\n",
            "Epoch 68/100\n",
            "80/80 - 1s - loss: 0.3160 - accuracy: 0.8688\n",
            "Epoch 69/100\n",
            "80/80 - 1s - loss: 0.3158 - accuracy: 0.8689\n",
            "Epoch 70/100\n",
            "80/80 - 1s - loss: 0.3157 - accuracy: 0.8689\n",
            "Epoch 71/100\n",
            "80/80 - 1s - loss: 0.3156 - accuracy: 0.8689\n",
            "Epoch 72/100\n",
            "80/80 - 1s - loss: 0.3156 - accuracy: 0.8689\n",
            "Epoch 73/100\n",
            "80/80 - 1s - loss: 0.3154 - accuracy: 0.8691\n",
            "Epoch 74/100\n",
            "80/80 - 1s - loss: 0.3154 - accuracy: 0.8689\n",
            "Epoch 75/100\n",
            "80/80 - 1s - loss: 0.3153 - accuracy: 0.8692\n",
            "Epoch 76/100\n",
            "80/80 - 1s - loss: 0.3153 - accuracy: 0.8691\n",
            "Epoch 77/100\n",
            "80/80 - 1s - loss: 0.3152 - accuracy: 0.8691\n",
            "Epoch 78/100\n",
            "80/80 - 1s - loss: 0.3151 - accuracy: 0.8691\n",
            "Epoch 79/100\n",
            "80/80 - 1s - loss: 0.3151 - accuracy: 0.8692\n",
            "Epoch 80/100\n",
            "80/80 - 1s - loss: 0.3150 - accuracy: 0.8691\n",
            "Epoch 81/100\n",
            "80/80 - 1s - loss: 0.3149 - accuracy: 0.8693\n",
            "Epoch 82/100\n",
            "80/80 - 1s - loss: 0.3148 - accuracy: 0.8692\n",
            "Epoch 83/100\n",
            "80/80 - 1s - loss: 0.3148 - accuracy: 0.8691\n",
            "Epoch 84/100\n",
            "80/80 - 1s - loss: 0.3147 - accuracy: 0.8692\n",
            "Epoch 85/100\n",
            "80/80 - 1s - loss: 0.3147 - accuracy: 0.8692\n",
            "Epoch 86/100\n",
            "80/80 - 1s - loss: 0.3146 - accuracy: 0.8693\n",
            "Epoch 87/100\n",
            "80/80 - 1s - loss: 0.3146 - accuracy: 0.8693\n",
            "Epoch 88/100\n",
            "80/80 - 1s - loss: 0.3145 - accuracy: 0.8693\n",
            "Epoch 89/100\n",
            "80/80 - 1s - loss: 0.3145 - accuracy: 0.8692\n",
            "Epoch 90/100\n",
            "80/80 - 1s - loss: 0.3145 - accuracy: 0.8695\n",
            "Epoch 91/100\n",
            "80/80 - 1s - loss: 0.3144 - accuracy: 0.8692\n",
            "Epoch 92/100\n",
            "80/80 - 1s - loss: 0.3143 - accuracy: 0.8693\n",
            "Epoch 93/100\n",
            "80/80 - 1s - loss: 0.3142 - accuracy: 0.8692\n",
            "Epoch 94/100\n",
            "80/80 - 1s - loss: 0.3142 - accuracy: 0.8693\n",
            "Epoch 95/100\n",
            "80/80 - 1s - loss: 0.3142 - accuracy: 0.8694\n",
            "Epoch 96/100\n",
            "80/80 - 1s - loss: 0.3142 - accuracy: 0.8694\n",
            "Epoch 97/100\n",
            "80/80 - 1s - loss: 0.3141 - accuracy: 0.8693\n",
            "Epoch 98/100\n",
            "80/80 - 1s - loss: 0.3141 - accuracy: 0.8693\n",
            "Epoch 99/100\n",
            "80/80 - 1s - loss: 0.3140 - accuracy: 0.8695\n",
            "Epoch 100/100\n",
            "80/80 - 1s - loss: 0.3139 - accuracy: 0.8695\n"
          ],
          "name": "stdout"
        },
        {
          "output_type": "execute_result",
          "data": {
            "text/plain": [
              "<tensorflow.python.keras.callbacks.History at 0x7f47fd78a310>"
            ]
          },
          "metadata": {
            "tags": []
          },
          "execution_count": 10
        }
      ]
    },
    {
      "cell_type": "code",
      "metadata": {
        "colab": {
          "base_uri": "https://localhost:8080/"
        },
        "id": "KuMCD9kCJrpc",
        "outputId": "14ed06b5-ed73-4db7-be6a-16645b5f33d8"
      },
      "source": [
        "def ingesttest():\n",
        "    testdata = pd.read_csv('/content/drive/MyDrive/tweetstest.csv', encoding='latin-1')\n",
        "    testdata.columns=[\"Sentiment\",\"ItemID\",\"Date\",\"Blank\",\"SentimentSource\",\"SentimentText\"]\n",
        "    testdata.drop(['ItemID', 'SentimentSource'], axis=1, inplace=True)\n",
        "    testdata = testdata[testdata.Sentiment.isnull() == False]\n",
        "    testdata['Sentiment'] = testdata['Sentiment'].map( {4:1, 0:0, 2:1})\n",
        "    testdata = testdata[testdata['SentimentText'].isnull() == False]\n",
        "    testdata.reset_index(inplace=True)\n",
        "    testdata.drop('index', axis=1, inplace=True)\n",
        "    print ('dataset loaded with shape', testdata.shape  )  \n",
        "    return testdata\n",
        "\n",
        "testdata = ingesttest()"
      ],
      "execution_count": 11,
      "outputs": [
        {
          "output_type": "stream",
          "text": [
            "dataset loaded with shape (497, 4)\n"
          ],
          "name": "stdout"
        }
      ]
    },
    {
      "cell_type": "code",
      "metadata": {
        "colab": {
          "base_uri": "https://localhost:8080/"
        },
        "id": "nVSyQO8sHFem",
        "outputId": "48679c5b-fbae-43cf-d6e8-38078f78a4d6"
      },
      "source": [
        "testdata = postprocess(testdata)\n",
        "\n",
        "\n",
        "test_X=np.array(testdata.tokens)\n",
        "test_y=np.array(testdata.Sentiment)\n",
        "\n",
        "test_w2v_vecs = np.concatenate([buildWordVector(z, n_dim) for z in tqdm(map(lambda x:x, test_X))])\n",
        "\n",
        "score = newmodel.evaluate(test_w2v_vecs,test_y, batch_size=128, verbose=2)\n",
        "print(newmodel.metrics_names[0],\": \",score[0],\"\\n\",newmodel.metrics_names[1],\": \",score[1])\n"
      ],
      "execution_count": 12,
      "outputs": [
        {
          "output_type": "stream",
          "text": [
            "progress-bar: 100%|██████████| 497/497 [00:00<00:00, 13360.14it/s]\n",
            "0it [00:00, ?it/s]/usr/local/lib/python3.7/dist-packages/ipykernel_launcher.py:6: DeprecationWarning: Call to deprecated `__getitem__` (Method will be removed in 4.0.0, use self.wv.__getitem__() instead).\n",
            "  \n",
            "497it [00:00, 4280.57it/s]\n"
          ],
          "name": "stderr"
        },
        {
          "output_type": "stream",
          "text": [
            "4/4 - 0s - loss: 0.5347 - accuracy: 0.7505\n",
            "loss :  0.5346896052360535 \n",
            " accuracy :  0.7505030035972595\n"
          ],
          "name": "stdout"
        }
      ]
    },
    {
      "cell_type": "code",
      "metadata": {
        "id": "Exe7BEYrJwvl"
      },
      "source": [
        "def sentiment(query):\n",
        "  querytokens=tokenize(query)\n",
        "  query_vecs_w2v = buildWordVector(querytokens, n_dim)\n",
        "  return newmodel.predict(query_vecs_w2v).item()"
      ],
      "execution_count": 13,
      "outputs": []
    },
    {
      "cell_type": "code",
      "metadata": {
        "colab": {
          "base_uri": "https://localhost:8080/"
        },
        "id": "8t10o-OqJzxO",
        "outputId": "35771999-e400-4991-a256-2b919f0fcaf3"
      },
      "source": [
        "sentiment('good')"
      ],
      "execution_count": 14,
      "outputs": [
        {
          "output_type": "stream",
          "text": [
            "/usr/local/lib/python3.7/dist-packages/ipykernel_launcher.py:6: DeprecationWarning: Call to deprecated `__getitem__` (Method will be removed in 4.0.0, use self.wv.__getitem__() instead).\n",
            "  \n"
          ],
          "name": "stderr"
        },
        {
          "output_type": "execute_result",
          "data": {
            "text/plain": [
              "0.9999988079071045"
            ]
          },
          "metadata": {
            "tags": []
          },
          "execution_count": 14
        }
      ]
    },
    {
      "cell_type": "code",
      "metadata": {
        "colab": {
          "base_uri": "https://localhost:8080/"
        },
        "id": "SYa-kr62aXEa",
        "outputId": "3b4256e1-cd20-4563-c868-71fc1e8e3d0e"
      },
      "source": [
        "\n",
        "consumerKey = \"67DJrIOHGvq9tEPETXqssC2TB\"\n",
        "consumerSecret = \"ffzqOEQkGGKAshQNcGmBPlyCE2FoTf0BUE859tXjFJSGlVBiA7\"\n",
        "accessToken = \"126581680-ofLIReJsX8Q8GV3tBbpJt8H4EW6E4IKoHmVOFLJj\"\n",
        "accessTokenSecret = \"Q1z00P22hLSZTJZYA6y2o1ous7ybVRUatgtP3ql9bkz4g\"\n",
        "auth = tweepy.OAuthHandler(consumerKey, consumerSecret)\n",
        "auth.set_access_token(accessToken, accessTokenSecret)\n",
        "api = tweepy.API(auth)\n",
        " \n",
        "# input for term to be searched and how many tweets to search\n",
        "searchTerm = input(\"Enter Keyword/Tag to search about: \")\n",
        "\n",
        "tweets = tweepy.Cursor(api.search, q=searchTerm, lang = \"en\").items(200)"
      ],
      "execution_count": 15,
      "outputs": [
        {
          "output_type": "stream",
          "text": [
            "Enter Keyword/Tag to search about: biden\n"
          ],
          "name": "stdout"
        }
      ]
    },
    {
      "cell_type": "code",
      "metadata": {
        "id": "P5C2twvDiwvp"
      },
      "source": [
        "\n",
        "def cleanTweet(tweet):\n",
        "    # Remove Links, Special Characters etc from tweet\n",
        "    return ' '.join(re.sub(\"(@[A-Za-z0-9]+)|([^0-9A-Za-z \\t]) | (\\w +:\\ / \\ / \\S +)\", \" \", tweet).split())\n",
        "\n",
        "# function to calculate percentage\n",
        "def percentage(part, whole):\n",
        "    temp = 100 * float(part) / float(whole)\n",
        "    return format(temp, '.2f')\n",
        "\n",
        "def plotPieChart(positive, wpositive, spositive, negative, wnegative, snegative, neutral, searchTerm, noOfSearchTerms):\n",
        "    labels = ['Positive [' + str(positive) + '%]', 'Weakly Positive [' + str(wpositive) + '%]','Strongly Positive [' + str(spositive) + '%]', 'Neutral [' + str(neutral) + '%]',\n",
        "              'Negative [' + str(negative) + '%]', 'Weakly Negative [' + str(wnegative) + '%]', 'Strongly Negative [' + str(snegative) + '%]']\n",
        "    sizes = [positive, wpositive, spositive, neutral, negative, wnegative, snegative]\n",
        "    colors = ['yellowgreen','lightgreen','darkgreen', 'gold', 'red','lightsalmon','darkred']\n",
        "    patches, texts = plt.pie(sizes, colors=colors, startangle=90)\n",
        "    plt.legend(patches, labels, loc=\"best\")\n",
        "    plt.title('How people are reacting on ' + searchTerm + ' by analyzing ' + str(noOfSearchTerms) + ' Tweets.')\n",
        "    plt.axis('equal')\n",
        "    plt.tight_layout()\n",
        "    plt.show()\n"
      ],
      "execution_count": 16,
      "outputs": []
    },
    {
      "cell_type": "code",
      "metadata": {
        "colab": {
          "base_uri": "https://localhost:8080/"
        },
        "id": "MJkEATDBb9rL",
        "outputId": "4bb2b940-851d-45c7-e761-f68f4a387c2c"
      },
      "source": [
        "# creating some variables to store info\n",
        "polarity = 0\n",
        "positive = 0\n",
        "wpositive = 0\n",
        "spositive = 0\n",
        "negative = 0\n",
        "wnegative = 0\n",
        "snegative = 0\n",
        "neutral = 0\n",
        "print(f\"\\nHere are some tweets about {searchTerm} : \\n\")\n",
        "# iterating through tweets fetched\n",
        "for tweet in tweets:\n",
        "  print(cleanTweet(tweet.text))\n",
        "  analysis = sentiment(tweet.text)\n",
        "  print(\"positive\" if analysis>0.5 else \"negative\")  # print tweet's polarity\n",
        "  polarity += analysis  # adding up polarities to find the average later\n",
        " \n",
        "  if (analysis > 0.450 and analysis <= 0.550):\n",
        "    # adding reaction of how people are reacting to find average later\n",
        "    neutral += 1\n",
        "  elif (analysis > 0.550 and analysis <= 0.700):\n",
        "    wpositive += 1\n",
        "  elif (analysis > 0.700 and analysis <= 0.850):\n",
        "    positive += 1\n",
        "  elif (analysis > 0.850 and analysis <= 1):\n",
        "    spositive += 1\n",
        "  elif (analysis > 0.300 and analysis <= 0.450):\n",
        "    wnegative += 1\n",
        "  elif (analysis > 0.150 and analysis <= 0.300):\n",
        "    negative += 1\n",
        "  elif (analysis > 0 and analysis <= 0.150):\n",
        "    snegative += 1"
      ],
      "execution_count": 17,
      "outputs": [
        {
          "output_type": "stream",
          "text": [
            "\n",
            "Here are some tweets about biden : \n",
            "\n",
            "RT update 61 days in Joe Biden's 0 golf trips have wasted exactly 0 taxpayer dollars\n",
            "positive\n",
            "Republicans didn't give a rats fuck about kids and families on the southern border in the years before t https://t.co/bg4yZOsVFM\n",
            "positive\n",
            "RT Kamala Harris is always following Biden around like a vulture circling her prey https://t.co/JcCbLqETCe\n",
            "positive\n",
            "RT _G2DAZ Who the hell paid for the ‘Biden Let Us In T-shirts being worn by the illegals in these caravans?\n",
            "positive\n",
            "RT Shadowy group behind Brett Kavanaugh's confirmation spending big to undermine Biden's Justice Department https://t.co/piIU…\n",
            "positive\n",
            "RT BREAKING NOW Texas Gov Greg Abbott SLAMS The Biden Administration says they are \"IMPORTING COVID into the state of Te…\n"
          ],
          "name": "stdout"
        },
        {
          "output_type": "stream",
          "text": [
            "/usr/local/lib/python3.7/dist-packages/ipykernel_launcher.py:6: DeprecationWarning: Call to deprecated `__getitem__` (Method will be removed in 4.0.0, use self.wv.__getitem__() instead).\n",
            "  \n"
          ],
          "name": "stderr"
        },
        {
          "output_type": "stream",
          "text": [
            "positive\n",
            "RT _ttys I assume people are chasing members of the Biden administration out of restaurants https://t.co/oPjQEerUxu\n",
            "positive\n",
            "RT How can we be sure the surge at the border is because of Biden Oh wait.. https://t.co/G3Sd6CMcL6\n",
            "positive\n",
            "THIS WOMEN TO BE REAL HAS TO NOTICE THAT BIDEN IS NOT ACCESSIBLE NEARLY TO THE LEVEL OF TRUMP IN GE https://t.co/7vLva9XVFw\n",
            "negative\n",
            "RT In case anyone was wondering how seriously Biden’s Civil Rights Division at DOJ considers anti-Asian discrimination r…\n",
            "negative\n",
            "RT How Biden quietly created a sweeping $120 billion child poverty program that could be the most consequential piece of…\n",
            "positive\n",
            "RT If is going to try to hold President Biden accountable for his immigration policy I think it’s fair game to h…\n",
            "positive\n",
            "RT #JoeBiden has \"a thirty-year record of supporting anti-worker policies advocating cuts to #SocialSecurity &amp pandering to…\n",
            "positive\n",
            "RT Biden and allies have achieved more in 2 months of unified control than Rs under Trump did in 2 years They sold their sou…\n",
            "positive\n",
            "RT President Trump is absolutely correct The Biden Administration is destroying America.\n",
            "positive\n",
            "RT The Republicans who are urging Biden to debate Putin aren’t they implicitly recognizing Putin as the head of their party h…\n",
            "positive\n",
            "RT Biden Officials Blame Former President Trump For Crisis At Southern Border https://t.co/A7TZX72tNj\n",
            "positive\n",
            "RT A dead giveaway about how performative the outrage from the media and people like Jim Acosta over Trump's term is how muted…\n",
            "positive\n",
            "RT BREAKING The U.S Supreme Court agrees to consider reinstating the death sentence for Boston marathon bomber Dzhokhar Tsarnaev Th…\n",
            "positive\n",
            "RT Sometimes US troops on patrol still have rocks and fruit thrown at them But it’s hard to know how much of that is a poli…\n",
            "positive\n",
            "RT BREAKING The Biden Border Crisis Revealed in New Photos https://t.co/ghi6MdbFzt\n",
            "positive\n",
            "RT This is the direct result of the Biden Administration’s open border policies.\n",
            "positive\n",
            "RT Why can’t and bring Americans the REAL NEWS that Joe Biden had shady business dealings and got filthy rich of…\n",
            "positive\n",
            "RT Me \"Since the pandemic.. border apprehensions have gone up month after month Joe Biden did not inherit falling numbers.…\n",
            "positive\n",
            "RT Capitol rioter bans Biden voters from his Ohio coffee shop https://t.co/zyW0EyrXk8\n",
            "positive\n",
            "After seeing how Joe Biden treats the national guard seeing how he built the cages What do you expect You would https://t.co/ImSbDzF8PK\n",
            "positive\n",
            "RT How can we be sure the surge at the border is because of Biden Oh wait.. https://t.co/G3Sd6CMcL6\n",
            "positive\n",
            "Joe Biden can you walk up stairs correctly?\n",
            "positive\n",
            "RT Russian state TV must have shown Biden's stumble a hundred times intermittently with clips from Fox News bashing our…\n",
            "positive\n",
            "RT The Biden Administration doesn’t view the border emergency as a “crisis, but rather as a “stressful challenge. In ot…\n",
            "positive\n",
            "RT update 61 days in Joe Biden's 0 golf trips have wasted exactly 0 taxpayer dollars\n",
            "positive\n",
            "RT The Biden Admin just dropped $86 Million dollars to get hotel rooms for ILLEGAL IMMIGRANTS yet we have zero dollars goin…\n",
            "positive\n",
            "RT This photo shows a migrant facility in Donna Texas This is what Biden’s open invitation has created Imagine the media…\n",
            "positive\n",
            "RT To illustrate just how thoroughly Biden wrecked the border consider on a typical day in Nov 2020 there were fewer than 800…\n",
            "positive\n",
            "RT How Biden quietly created a sweeping $120 billion child poverty program that could be the most consequential piece of…\n",
            "positive\n",
            "RT President Trump is absolutely correct The Biden Administration is destroying America.\n",
            "positive\n",
            "RT Secretary Mayorkas testified “the border is secure and the border is not open.” So either has been deployed jus…\n",
            "negative\n",
            "RT Many of the migrants being put in hotel rooms are NOT real families Many children have been kidnapped to be used to gain a…\n",
            "negative\n",
            "RT Opinion It was Speaker Nancy Pelosi who perfectly summed up the GOP’s political dishonesty when it comes to D…\n",
            "positive\n",
            "RT _Schulman Biden tries to blow up Arab-Israeli peace deal in order to surrender US to Iran and Putin Great clarity from …\n",
            "positive\n",
            "i’m convinced that they have a storage tank of rei-like soulless vessels of biden under the white house and they se https://t.co/0Ol0EW8mjl\n",
            "negative\n",
            "RT Denying the press the ability to observe film and report on the conditions at the border is not openness or transparency—…\n",
            "positive\n",
            "RT NEW Our Executive Director will testify before the Senate Judiciary Committee tomorrow on the need for comm…\n",
            "positive\n",
            "RT Project Veritas glimpses inside the Biden #illegalimmigrant Detention Center at the Texas-Mexico border Possible Centra…\n",
            "positive\n",
            "RT _ #BorderCrisis Axios reveals exclusive photos of the condition of migrant children at a U.S Customs and Border Protecti…\n",
            "positive\n",
            "RT Now it all makes sense why Joe Biden giving media 'zero access to border operations Biden Bans Reporters from Viewing His…\n",
            "positive\n",
            "RT Is Obama’s shadow government running our country it’s clear Biden Administration isn’t ? Obama ran every operation in the fou…\n",
            "positive\n",
            "RT update 61 days in Joe Biden's 0 golf trips have wasted exactly 0 taxpayer dollars\n",
            "positive\n",
            "Biden administration sanctions two Chinese officials for human rights abuses against Uyghurs https://t.co/V8U1gjx4qB\n",
            "positive\n",
            "RT Joe Biden let the National Guard sleep in garages but buys $86,000,000 worth of hotel rooms for illegal aliens. This is…\n",
            "positive\n",
            "RT So Biden is spending $86,000,000 to purchase hotel rooms for 1,200 illegal alien families for six months. By that math,…\n",
            "positive\n",
            "RT EXCLUSIVE Biden Spending Millions per Day to Halt Border Wall Construction https://t.co/eZqKKCjIOm\n",
            "positive\n",
            "RT John Cornyn Criticized After Complaining That Biden Treats Immigrants “Humanely https://t.co/1sv9yxiNvF\n",
            "positive\n",
            "RT _ It's Biden's supporters who are assaulting Asian Americans I've seen the horrific videos of BLM sucker punching Asians…\n",
            "positive\n",
            "RT How does anyone expect the American people to take COVID-19 restrictions seriously when the Biden regime is releasing CO…\n",
            "positive\n",
            "RT WATCH James O'Keefe STUNS Leaks Photos Of Border Crisis Biden and Psaki Don't Want You to See https://t.co/MK2B0Zpqc0\n",
            "positive\n",
            "Likewise took Rep Dan Crenshaw to school reminding him that immigrant numbers have been surging for c https://t.co/lYC6WJ8Gqj\n",
            "positive\n",
            "So where is the biased liberal mainstream media outrage now eh? If the Biden Administration would have just stay https://t.co/VRZWtzu0zs\n",
            "negative\n",
            "It’s crazy what they are doing now Even our governor is go https://t.co/fSsgR4RtxP\n",
            "positive\n",
            "RT Joe Biden created a crisis at our southern border Both sheriff’s have seen a massive uptick since Biden has taken off…\n",
            "positive\n",
            "RT update 61 days in Joe Biden's 0 golf trips have wasted exactly 0 taxpayer dollars\n",
            "positive\n",
            "RT This is misinformation. USA is deporting people not Joe Biden. Joe Biden ordered a pause on deportation but Republican j…\n",
            "positive\n",
            "RT NEW DAY The Biden admin is currently violating federal law by holding children for over three days in \"jail-like condit…\n",
            "positive\n",
            "RT The Biden administration is expected to allow abortion providers including Planned Parenthood to once again receive fede…\n",
            "positive\n",
            "RT Mehdi Hasan challenges Rep Dan Crenshaw on the GOP's claim that Joe Biden has provided an open border for immigrants The…\n",
            "positive\n",
            "RT BREAKING REPORT Biden administration has 14,000 migrant children WITHOUT PARENTS in custody... MEDIA SILENT...\n",
            "negative\n",
            "RT Trump issued a statement saying that Biden is guilty of committing crimes against humanity over what's taking place at th…\n",
            "positive\n",
            "RT President Biden is being sued in many states on a number of issues regarding his executive orders. This is what 'dark…\n",
            "positive\n",
            "RT China chairing a meeting with John Kerry on climate change is like joining a human rights Commision with Iran as a member.…\n",
            "positive\n",
            "why are we not pushing Biden to house these illegals in his home state Or neighboring sta https://t.co/l76x3QcYpL\n",
            "negative\n",
            "RT Two months of the Biden administration and we have shots in arms money in pockets and competence in government again L…\n",
            "positive\n",
            "RT BREAKING NOW Texas Gov Greg Abbott SLAMS The Biden Administration says they are \"IMPORTING COVID into the state of Te…\n",
            "positive\n",
            "RT No POTUS travel to southern border scheduled but Biden’s border czar _RS and an NSC aide traveling today he…\n",
            "positive\n",
            "RT As the Biden admin works to control the biggest immigration surge in 20 years “their immediate goal now is scrambling to get t…\n",
            "positive\n",
            "RT The Biden Admin just dropped $86 Million dollars to get hotel rooms for ILLEGAL IMMIGRANTS yet we have zero dollars goin…\n",
            "positive\n",
            "RT Today marks 18 years since the US invaded and occupied Iraq on a pack of lies killing over a million human beings and givin…\n",
            "positive\n",
            "RT Why hasn’t President Biden visited the border yet?\n",
            "negative\n",
            "They give joe Biden narcan before he goes on cam\n",
            "positive\n",
            "RT The most basic job of ANY government is to keep its citizens safe Biden has no idea who is coming in the country now Bes…\n",
            "positive\n",
            "yeah until biden put out that may 1 date and our governor one-upped him by saying april 5 i truly did not https://t.co/XRm2rH3aTQ\n",
            "positive\n",
            "RT I served as White House physician under THREE Presidents I’ve seen what it takes physically AND mentally to do the job…\n",
            "positive\n",
            "RT Photojournalist Every President Has Allowed Me To Photograph CBP Border Operations Except Biden https://t.co/mAhVxyHnax…\n",
            "positive\n",
            "RT 'People are the new dope. Mexican cartels are seizing on Biden's lax border policies to run multimillion-dollar human…\n",
            "positive\n",
            "RT Thanks to Biden we get no more border wall but we still have to pay. https://t.co/Vf0cBHjXlW\n",
            "positive\n",
            "RT China chairing a meeting with John Kerry on climate change is like joining a human rights Commision with Iran as a member.…\n",
            "positive\n",
            "RT President Trump is absolutely correct The Biden Administration is destroying America.\n",
            "positive\n",
            "RT The Biden administration is making 3 arguments about the border 1 It's Trump's fault 2 the border is secure and 3 it'…\n",
            "positive\n",
            "RT Jesus fell 3 times because of beatings and carrying a heavy cross. Biden fell 3 times because of a breeze.\n",
            "negative\n",
            "RT Deadly incident at Rio Grande amid Biden’s lax border policies https://t.co/OAdoHTZwDR #OANN\n",
            "positive\n",
            "RT BREAKING Saudi Arabia offers a cease-fire to Houthi rebels in Yemen's yearslong war The move follows a rebel campaign of drone an…\n",
            "positive\n",
            "RT Facts that MSM curiously forgets when talking about student loans: $1B makes up only 0.58 of all Student loans. 93 of…\n",
            "negative\n",
            "RT So now the Biden White House is going to provide video footage of their border crisis? Yeah because this is now China whe…\n",
            "positive\n",
            "Joe Biden is destroying the economy with illegal immigration and tax and spend economics Joe Biden does not care https://t.co/f59UzMRfVy\n",
            "positive\n",
            "RT China chairing a meeting with John Kerry on climate change is like joining a human rights Commision with Iran as a member.…\n",
            "positive\n",
            "RT As a newly single mom who works in special education this has been a really tough year. My portion of this money…\n",
            "positive\n",
            "RT Secretary Mayorkas testified “the border is secure and the border is not open.” So either has been deployed jus…\n",
            "negative\n",
            "RT The desire for a \"both sides narrative is collapsing the distinction between a president who is trying to fix a proble…\n",
            "positive\n",
            "RT Do you remember that during the Trump administration our “private sector prisons for children charged ove…\n",
            "positive\n",
            "Omar claims to have raised the issue about Biden’s admin treatment of non-citizens “multiple times and “thanks for https://t.co/W6lU5UJJ1T\n",
            "negative\n",
            "RT Taxing the rich is a very popular idea And Biden's White House seems to recognize exactly that Good read from …\n",
            "positive\n",
            "RT A dead giveaway about how performative the outrage from the media and people like Jim Acosta over Trump's term is how muted…\n",
            "positive\n",
            "RT Black women are setting the agenda and taking the lead in the newest administration 💪 https://t.co/gmiFZRMYIG\n",
            "positive\n",
            "RT I hear Putin invited Biden to meet him at the steppes.\n",
            "positive\n",
            "RT It didn't catch them off guard. WaPo reported last week that the Biden administration was repeatedly warned by career of…\n",
            "positive\n",
            "Sign the petition to President Biden It’s time to hold the Forestry Industry Accountable for its Climate Biodiver https://t.co/7YJcU6SXPn\n",
            "positive\n",
            "RT Republicans didn't give a rats fuck about kids and families on the southern border in the years before the Biden/Harris…\n",
            "positive\n",
            "RT States sue Biden for revoking petroleum pipeline permit https://t.co/uNfdIltmRp\n",
            "positive\n",
            "RT I served as White House physician under THREE Presidents I’ve seen what it takes physically AND mentally to do the job…\n",
            "positive\n",
            "RT I wonder what America’s 40,000 homeless veterans think about the Biden administration finding $86 million to provide ho…\n",
            "positive\n",
            "Trump concentration camps Biden temporary overflow facility https://t.co/uCFCFp0mJy\n",
            "negative\n",
            "RT BREAKING NOW Texas Gov Greg Abbott SLAMS The Biden Administration says they are \"IMPORTING COVID into the state of Te…\n",
            "positive\n",
            "CCP-America Potato Head Commissar Biden has single-handedly solved SYSTEMIC RACISM AGAINST AFRICAN AMERICANS!! Not https://t.co/MLIAFIVrmp\n",
            "negative\n",
            "RT How can we be sure the surge at the border is because of Biden Oh wait.. https://t.co/G3Sd6CMcL6\n",
            "positive\n",
            "RT A few quick takes from my trip to the border 1 the Biden Administration is trying their best to uphold the rule of l…\n",
            "positive\n",
            "RT Getting second dose today First dose we had to drive 100 miles round trip This morning I got a text telling me I cou…\n",
            "positive\n",
            "So Republicans didn't give a single shit about the #BorderCrisis when Trump thought kids in cages was h https://t.co/CwXBPA5SgC\n",
            "positive\n",
            "RT A dead giveaway about how performative the outrage from the media and people like Jim Acosta over Trump's term is how muted…\n",
            "positive\n",
            "RT Joe Biden let the National Guard sleep in garages but buys $86,000,000 worth of hotel rooms for illegal aliens. This is…\n",
            "positive\n",
            "RT MHA Nation had accused the government of illegally revoking their rights to the Missouri riverbed and giving them to the…\n",
            "positive\n",
            "RT A dead giveaway about how performative the outrage from the media and people like Jim Acosta over Trump's term is how muted…\n",
            "positive\n",
            "Niiice good job Biden. What a humanitarian guy wouldn't you agree?\n",
            "positive\n",
            "The Biden administration has a lot of clean up to do from the Trump administration\n",
            "positive\n",
            "RT Joe Biden takes better care of illegals than veterans.\n",
            "positive\n",
            "RT Maybe that’s the view from Biden’s basement I think Honduras didn’t get the memo.\n",
            "positive\n",
            "RT If this POS ever saw Biden as a patient this tweet is beyond unethical and he should lose his license https://t.co/3CljpR…\n",
            "positive\n",
            "RT The Biden administration is expected to allow abortion providers including Planned Parenthood to once again receive fede…\n",
            "positive\n",
            "RT It's ok guys Biden is doing the best he can https://t.co/PCvIHEyzVU\n",
            "positive\n",
            "RT A dead giveaway about how performative the outrage from the media and people like Jim Acosta over Trump's term is how muted…\n",
            "positive\n",
            "He says it as if the biden admin puppets and himself weren't commanded to make this happen People wil https://t.co/cF8k5FW4lA\n",
            "negative\n",
            "RT BREAKING NOW Texas Gov Greg Abbott SLAMS The Biden Administration says they are \"IMPORTING COVID into the state of Te…\n",
            "positive\n",
            "RT update 61 days in Joe Biden's 0 golf trips have wasted exactly 0 taxpayer dollars\n",
            "positive\n",
            "RT China chairing a meeting with John Kerry on climate change is like joining a human rights Commision with Iran as a member.…\n",
            "positive\n",
            "RT 'Disheartening. Biden Deplores Turkey's Exit from a Global Pact to Protect Women From Violence https://t.co/fFP5SGAKhM\n",
            "positive\n",
            "Mexican cartels ratchet up human trafficking ops amid Biden policy https://t.co/5LN49KnDRP via\n",
            "positive\n",
            "RT China chairing a meeting with John Kerry on climate change is like joining a human rights Commision with Iran as a member.…\n",
            "positive\n",
            "RT The Biden administration under newly confirmed Secretary Deb Haaland has withdrawn a Trump administration…\n",
            "positive\n",
            "RT It's ok guys Biden is doing the best he can.\n",
            "positive\n",
            "RT ‘Sit this one out Candyman' Trump White House physician slammed for calling Biden stumble a 'red flag https://t.co/ASVIL…\n",
            "positive\n",
            "RT It pretty obvious now why Joe Biden got nothing done in 47 years.\n",
            "positive\n",
            "RT But don't worry Joe Biden is empathetic so this is all fine\n",
            "positive\n",
            "RT A 40-day streak of rising gas prices in San Diego California. Idaho gas prices jumped 17 cents in one week. Myrtle…\n",
            "positive\n",
            "I wonder what the money will actually used for This seems like a cover for [redacted] https://t.co/zsjcxqzH3B https://t.co/pbEIHL5Ep9\n",
            "positive\n",
            "Border Crisis Overshadows Biden Effort to Sell Coronavirus Spending Bill https://t.co/e0oUO3C5dj via\n",
            "positive\n",
            "RT The Biden administration under newly confirmed Secretary Deb Haaland has withdrawn a Trump administration…\n",
            "positive\n",
            "RT Posts from a private Facebook group for Pittsburgh-area police officers show transphobic bullying and violence against Bl…\n",
            "positive\n",
            "RT Secretary Mayorkas testified “the border is secure and the border is not open.” So either has been deployed jus…\n",
            "negative\n",
            "RT Day 61 Biden Administration President Biden You love to play race card Each Day of your Administration I will send…\n",
            "positive\n",
            "THERE WAS NO DISTRIBUTION STRATEGY &amp TRUMP ADMINISTRATION ADMITTED TO IT LAST FALL IT WAS ALWAYS IN DEVELOPMENT T https://t.co/diz53s5lFU\n",
            "negative\n",
            "Axis Sally on the case. Maybe Pres Biden isn't making everything he knows public just yet But this one says, https://t.co/NUPDaGNnXu\n",
            "positive\n",
            "Biden seemed momentarily lost in thought during a press conference today read my 27-page dissection if https://t.co/mlOn48Tite\n",
            "negative\n",
            "RT Two sets of photographs from inside the Biden administration’s border detention facilities in Texas have surfaced. ht…\n",
            "positive\n",
            "RT update 61 days in Joe Biden's 0 golf trips have wasted exactly 0 taxpayer dollars\n",
            "positive\n",
            "While Republicans are frothing at the mouth saying Biden is too cowardly to debate Putin can I point ou https://t.co/qk2l2aRgH3\n",
            "positive\n",
            "RT No press No cameras. What is Biden hiding? Next week I’m bringing 15 senators to the border DHS said NO to our request to…\n",
            "negative\n",
            "RT BREAKING The White House plans to install a stairlift on Air Force 1 because Biden is healthier than Trump\n",
            "positive\n",
            "RT Republicans didn't give a rats fuck about kids and families on the southern border in the years before the Biden/Harris…\n",
            "positive\n",
            "RT No world leader takes Joe Biden seriously.\n",
            "positive\n",
            "RT Kamala Harris wants nothing more than to get rid of Joe Biden.\n",
            "negative\n",
            "That's not the goal but #Biden wanted the job so he has to solve problems that come with the job.\n",
            "negative\n",
            "RT Vladimir Putin is basically calling Biden a senile old man China rebuffed Anthony Blinken to his face &amp Kim Jong Un ref…\n",
            "positive\n",
            "RT It pretty obvious now why Joe Biden got nothing done in 47 years.\n",
            "positive\n",
            "RT Trump slams Biden over border 'crisis' accuses him of causing 'death and human tragedy https://t.co/y0w4QyThBp https://t.co…\n",
            "positive\n",
            "RT Trump slams Biden over border 'crisis' accuses him of causing 'death and human tragedy https://t.co/y0w4QyThBp https://t.co…\n",
            "positive\n",
            "RT A dead giveaway about how performative the outrage from the media and people like Jim Acosta over Trump's term is how muted…\n",
            "positive\n",
            "RT BREAKING NOW Texas Gov Greg Abbott SLAMS The Biden Administration says they are \"IMPORTING COVID into the state of Te…\n",
            "positive\n",
            "RT Joe Biden takes better care of illegals than veterans.\n",
            "positive\n",
            "RT \"Joe Biden ruined the most secure border ever #DonaldJTrump As we KNEW he WOULD!\n",
            "positive\n",
            "RT Ohio Coffee Shop Owner To Biden Supporters Keep Out https://t.co/hmdoV4VcDo\n",
            "positive\n",
            "RT We went 4 years of McConnell blocking all legislation Dems introduced. He told us that he would block everything if Biden w…\n",
            "positive\n",
            "I’ve read various pieces recently regarding dates the US will be opening up Th https://t.co/sDU9Y3HlgB\n",
            "positive\n",
            "RT #Flashback . Joe Biden’s indecipherable campaign speech There is NO Way he got over 80 Million votes Hope…\n",
            "negative\n",
            "RT Blame President Trump for this border crisis? Last year the Biden campaign said President Trump had \"effectively closed…\n",
            "positive\n",
            "RT Shocking Videos of how the Biden administration is keeping immigrants in cages!! Never before seen They are hiding atro…\n",
            "positive\n",
            "RT “Analysts cite the policy change and Biden's more welcoming rhetoric to immigrants among various factors driving the su…\n",
            "positive\n",
            "RT A dead giveaway about how performative the outrage from the media and people like Jim Acosta over Trump's term is how muted…\n",
            "positive\n",
            "RT I wonder what America’s 40,000 homeless veterans think about the Biden administration finding $86 million to provide ho…\n",
            "positive\n",
            "Biden is fraud..He is a strong supporter of pakistan and his Negro Security advisor lloyed Austin's first https://t.co/Ku4cpzmOGq\n",
            "positive\n",
            "President Trump created Warp Speed Beijing Biden and Ms Biden took the vaccine prior to moving into the WH Wow https://t.co/iRy17jGk9f\n",
            "positive\n",
            "RT Blaming President Joe Biden for a 60-year immigration mess is just a typical right-wing fear indoctrination rhetoric fr…\n",
            "positive\n",
            "Yes this is why we voted for Biden.\n",
            "positive\n",
            "RT BREAKING REPORT Biden administration has 14,000 migrant children WITHOUT PARENTS in custody... MEDIA SILENT...\n",
            "negative\n",
            "_aware It's really disgusting i don't like Biden and i wasn https://t.co/efP6y0eSBK\n",
            "negative\n",
            "Good bit on the failed 2012 FTC case against Google &gt How Economists Corrupted the Internet by https://t.co/or1VKz1wtG\n",
            "negative\n",
            "RT China chairing a meeting with John Kerry on climate change is like joining a human rights Commision with Iran as a member.…\n",
            "positive\n",
            "RT BREAKING The Biden Border Crisis Revealed in New Photos https://t.co/ghi6MdbFzt\n",
            "positive\n",
            "RT Biden abandoned Trump's effective immigration policies and is now wondering why there is a crisis on our border.. htt…\n",
            "positive\n",
            "RT Please read through Able President Trump's statement regarding Joe Biden's border crisis.\n",
            "positive\n",
            "How i get 2 stimmys under Trump but not one under Biden... https://t.co/zeuc87KWMA\n",
            "negative\n",
            "RT Russian state TV must have shown Biden's stumble a hundred times intermittently with clips from Fox News bashing our…\n",
            "positive\n",
            "But you are okay with Biden’s kids in cages Stop recycling government propaganda that Obama made legal.\n",
            "positive\n",
            "Of course this is Biden‘s fault but don’t forget it is the parents fault more than anything\n",
            "positive\n",
            "RT _Gazette WATCH THIS: [Reporter “Did you come here because Joe Biden was elected President?” [Illegal Immigrant “Basically” —…\n",
            "positive\n",
            "RT update 61 days in Joe Biden's 0 golf trips have wasted exactly 0 taxpayer dollars\n",
            "positive\n",
            "RT China chairing a meeting with John Kerry on climate change is like joining a human rights Commision with Iran as a member.…\n",
            "positive\n",
            "RT Trump issued a statement saying that Biden is guilty of committing crimes against humanity over what's taking place at th…\n",
            "positive\n",
            "RT A dead giveaway about how performative the outrage from the media and people like Jim Acosta over Trump's term is how muted…\n",
            "positive\n",
            "RT China chairing a meeting with John Kerry on climate change is like joining a human rights Commision with Iran as a member.…\n",
            "positive\n",
            "RT Opinion President Biden’s White House is firing staffers for marijuana use That’s a mistake Let’s be real Whit…\n",
            "positive\n",
            "RT If you want to know how truly bad the border crisis is for Biden look no further than the deployment of the DNC’s rapid…\n",
            "positive\n",
            "RT How do you walk 3,000 miles through Mexico \"without food or support and show up at the border overweight with cell phon…\n",
            "positive\n"
          ],
          "name": "stdout"
        }
      ]
    },
    {
      "cell_type": "code",
      "metadata": {
        "id": "W6CuM2D-eZZ7"
      },
      "source": [
        "NoOfTerms=200\n",
        "# finding average of how people are reacting\n",
        "positive = percentage(positive, NoOfTerms)\n",
        "wpositive = percentage(wpositive, NoOfTerms)\n",
        "spositive = percentage(spositive, NoOfTerms)\n",
        "negative = percentage(negative, NoOfTerms)\n",
        "wnegative = percentage(wnegative, NoOfTerms)\n",
        "snegative = percentage(snegative, NoOfTerms)\n",
        "neutral = percentage(neutral, NoOfTerms)"
      ],
      "execution_count": 18,
      "outputs": []
    },
    {
      "cell_type": "code",
      "metadata": {
        "colab": {
          "base_uri": "https://localhost:8080/",
          "height": 540
        },
        "id": "yQyLuHD9iq5q",
        "outputId": "60ce15bc-dd59-4e97-9a94-2a808e5f18a7"
      },
      "source": [
        "# finding average reaction\n",
        "polarity = polarity / NoOfTerms\n",
        "\n",
        "# printing out data\n",
        "print(\"How people are reacting on \" + searchTerm + \" by analyzing \" + str(NoOfTerms) + \" tweets.\")\n",
        "print()\n",
        "print(\"General Report: \")\n",
        "\n",
        "if (polarity == 0):\n",
        "    print(\"Neutral\")\n",
        "elif (polarity > 0 and polarity <= 0.3):\n",
        "    print(\"Weakly Positive\")\n",
        "elif (polarity > 0.3 and polarity <= 0.6):\n",
        "    print(\"Positive\")\n",
        "    print(\"\\U0001f600\")\n",
        "elif (polarity > 0.6 and polarity <= 1):\n",
        "    print(\"Strongly Positive\")\n",
        "elif (polarity > -0.3 and polarity <= 0):\n",
        "    print(\"Weakly Negative\")\n",
        "elif (polarity > -0.6 and polarity <= -0.3):\n",
        "    print(\"Negative\")\n",
        "elif (polarity > -1 and polarity <= -0.6):\n",
        "    print(\"Strongly Negative\")\n",
        "\n",
        "print()\n",
        "print(\"Detailed Report: \")\n",
        "print(str(positive) + \"% people thought it was positive\")\n",
        "print(str(wpositive) + \"% people thought it was weakly positive\")\n",
        "print(str(spositive) + \"% people thought it was strongly positive\")\n",
        "print(str(negative) + \"% people thought it was negative\")\n",
        "print(str(wnegative) + \"% people thought it was weakly negative\")\n",
        "print(str(snegative) + \"% people thought it was strongly negative\")\n",
        "print(str(neutral) + \"% people thought it was neutral\")\n",
        "\n",
        "plotPieChart(positive, wpositive, spositive, negative, wnegative, snegative, neutral, searchTerm, NoOfTerms)"
      ],
      "execution_count": 19,
      "outputs": [
        {
          "output_type": "stream",
          "text": [
            "How people are reacting on biden by analyzing 200 tweets.\n",
            "\n",
            "General Report: \n",
            "Strongly Positive\n",
            "\n",
            "Detailed Report: \n",
            "30.50% people thought it was positive\n",
            "24.50% people thought it was weakly positive\n",
            "9.50% people thought it was strongly positive\n",
            "1.50% people thought it was negative\n",
            "8.00% people thought it was weakly negative\n",
            "0.50% people thought it was strongly negative\n",
            "25.50% people thought it was neutral\n"
          ],
          "name": "stdout"
        },
        {
          "output_type": "display_data",
          "data": {
            "image/png": "[encoded data removed]",
            "text/plain": [
              "<Figure size 432x288 with 1 Axes>"
            ]
          },
          "metadata": {
            "tags": []
          }
        }
      ]
    },
    {
      "cell_type": "code",
      "metadata": {
        "id": "w5tZLYFrlMTo"
      },
      "source": [
        ""
      ],
      "execution_count": 19,
      "outputs": []
    }
  ]
}